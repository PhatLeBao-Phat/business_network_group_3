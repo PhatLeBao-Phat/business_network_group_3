{
 "cells": [
  {
   "cell_type": "code",
   "execution_count": 1,
   "metadata": {},
   "outputs": [],
   "source": [
    "# Library\n",
    "import numpy as np \n",
    "import pandas as pd "
   ]
  },
  {
   "cell_type": "code",
   "execution_count": 110,
   "metadata": {},
   "outputs": [
    {
     "name": "stderr",
     "output_type": "stream",
     "text": [
      "C:\\Users\\PC\\AppData\\Local\\Temp\\ipykernel_26668\\4144403269.py:2: DtypeWarning: Columns (0,1,2,4) have mixed types. Specify dtype option on import or set low_memory=False.\n",
      "  df_application = pd.read_csv('patent_data/g_application.tsv',sep='\\t')\n"
     ]
    }
   ],
   "source": [
    "# Read dataset\n",
    "df_application = pd.read_csv('g_application.tsv',sep='\\t')\n",
    "df_assignee = pd.read_csv('g_assignee_disambiguated.tsv', sep='\\t')\n",
    "df_location = pd.read_csv('g_location_disambiguated.tsv', sep='\\t')"
   ]
  },
  {
   "cell_type": "code",
   "execution_count": 53,
   "metadata": {},
   "outputs": [],
   "source": [
    "# Save to pickle \n",
    "df_application.to_pickle('g_application.pkl')\n",
    "df_assignee.to_pickle('g_assignee_disambiguated.pkl')\n",
    "df_location.to_pickle('g_location_disambiguated.pkl')"
   ]
  },
  {
   "cell_type": "code",
   "execution_count": 50,
   "metadata": {},
   "outputs": [],
   "source": [
    "# Load from pickle\n",
    "df_application = pd.read_pickle('g_application.pkl')\n",
    "df_assignee = pd.read_pickle('g_assignee_disambiguated.pkl')\n",
    "df_location = pd.read_pickle('g_location_disambiguated.pkl')"
   ]
  },
  {
   "cell_type": "code",
   "execution_count": 111,
   "metadata": {},
   "outputs": [
    {
     "name": "stdout",
     "output_type": "stream",
     "text": [
      "[0] : ['application_id', 'patent_id', 'patent_application_type', 'filing_date', 'series_code', 'rule_47_flag']\n",
      "[1] : ['patent_id', 'assignee_sequence', 'assignee_id', 'disambig_assignee_individual_name_first', 'disambig_assignee_individual_name_last', 'disambig_assignee_organization', 'assignee_type', 'location_id']\n",
      "[2] : ['location_id', 'disambig_city', 'disambig_state', 'disambig_country', 'latitude', 'longitude', 'county', 'state_fips', 'county_fips']\n"
     ]
    }
   ],
   "source": [
    "# Attributes available\n",
    "i = 0\n",
    "for df in [df_application, df_assignee, df_location]: \n",
    "    print(f\"{[i]} : {list(df.columns)}\")\n",
    "    i += 1"
   ]
  },
  {
   "cell_type": "code",
   "execution_count": 112,
   "metadata": {},
   "outputs": [],
   "source": [
    "# Preprocessing\n",
    "df_application = (\n",
    "    df_application\n",
    "        .filter(items=[\"patent_id\", \"filing_date\", \"patent_application_type\"])\n",
    "        .astype({\"patent_id\" : \"str\"})\n",
    "        .assign(filing_date=pd.to_datetime(df_application.filing_date, errors = \"coerce\"))\n",
    "        .dropna()\n",
    ")\n",
    "\n",
    "df_assignee = (\n",
    "    df_assignee\n",
    "        .filter(items=[\"patent_id\", \"assignee_id\", \"disambig_assignee_organization\", \"location_id\"])\n",
    "        .astype({\"patent_id\" : \"str\", \"assignee_id\" : \"str\", \"location_id\" : \"str\"})\n",
    ")\n",
    "\n",
    "df_location = (\n",
    "    df_location\n",
    "        .filter(items=[\"location_id\", \"disambig_country\"])\n",
    "        .astype({\"location_id\" : \"str\", \"disambig_country\" : \"str\"})\n",
    ")   "
   ]
  },
  {
   "cell_type": "markdown",
   "metadata": {},
   "source": [
    "NOTE: for the `df_assignee` dataset, a `patent_id` can be linked to multiple `assignee_id`. However, the `patent_id` in `df_application` is unique. The `location_id` in `df_location` is also unique."
   ]
  },
  {
   "cell_type": "code",
   "execution_count": 116,
   "metadata": {},
   "outputs": [],
   "source": [
    "# Merge \n",
    "df = (\n",
    "    df_assignee\n",
    "        .merge(df_application, how=\"left\", on=\"patent_id\")\n",
    "        .merge(df_location, how=\"left\", on=\"location_id\")\n",
    ")"
   ]
  },
  {
   "cell_type": "code",
   "execution_count": 82,
   "metadata": {},
   "outputs": [
    {
     "name": "stdout",
     "output_type": "stream",
     "text": [
      "90730\n",
      "90730\n"
     ]
    }
   ],
   "source": [
    "# Test unique keys \n",
    "col = \"location_id\"\n",
    "test = df_location\n",
    "print(len(test))\n",
    "print(len(np.unique(test[col])))"
   ]
  },
  {
   "cell_type": "code",
   "execution_count": 124,
   "metadata": {},
   "outputs": [],
   "source": [
    "# Save only after records after 2000\n",
    "df \\\n",
    "    .query(\"filing_date >= '2000-01-01'\") \\\n",
    "    .to_csv(\"patents_views.csv\")"
   ]
  }
 ],
 "metadata": {
  "kernelspec": {
   "display_name": "Python 3",
   "language": "python",
   "name": "python3"
  },
  "language_info": {
   "codemirror_mode": {
    "name": "ipython",
    "version": 3
   },
   "file_extension": ".py",
   "mimetype": "text/x-python",
   "name": "python",
   "nbconvert_exporter": "python",
   "pygments_lexer": "ipython3",
   "version": "3.11.0"
  },
  "orig_nbformat": 4
 },
 "nbformat": 4,
 "nbformat_minor": 2
}
